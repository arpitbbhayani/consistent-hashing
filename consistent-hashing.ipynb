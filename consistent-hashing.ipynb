{
 "cells": [
  {
   "cell_type": "markdown",
   "metadata": {},
   "source": [
    "# Consistent Hashing"
   ]
  },
  {
   "cell_type": "code",
   "execution_count": 1,
   "metadata": {},
   "outputs": [],
   "source": [
    "import hashlib\n",
    "from bisect import bisect, bisect_left\n",
    "from typing import Union\n",
    "\n",
    "import matplotlib.pyplot as plt"
   ]
  },
  {
   "cell_type": "code",
   "execution_count": 2,
   "metadata": {},
   "outputs": [],
   "source": [
    "def plot_hashring(hash_space, occupied_keys, item_key: int = None, node_key: int = None):\n",
    "    figure = plt.figure()\n",
    "    axes_1 = figure.add_axes([0, 0, 3, 1])\n",
    "    axes_1.axes.get_yaxis().set_visible(False)\n",
    "    plt.ylim(top=2)\n",
    "    y_data = [0] * hash_space\n",
    "    for k in occupied_keys:\n",
    "        y_data[k] = 1\n",
    "\n",
    "    if item_key:\n",
    "        y_data[item_key] = 0.75\n",
    "\n",
    "    barlist = axes_1.bar(range(hash_space), y_data)\n",
    "\n",
    "    barlist[item_key].set_color('r')\n",
    "    barlist[node_key].set_color('g')\n",
    "\n",
    "    plt.show()"
   ]
  },
  {
   "cell_type": "code",
   "execution_count": 3,
   "metadata": {},
   "outputs": [],
   "source": [
    "def hash_fn(data: str) -> int:\n",
    "    \"\"\"hash_fn creates an integer equivalent of a SHA256 hash\n",
    "\n",
    "    data could be a string or an integer\n",
    "    \"\"\"\n",
    "    hsh = hashlib.sha256()\n",
    "\n",
    "    # converting data into bytes and passing it to hash function\n",
    "    hsh.update(bytes(data.encode('utf-8')))\n",
    "\n",
    "    # converting the HEX digest into equivalent integer value\n",
    "    return int(hsh.hexdigest(), 16)"
   ]
  },
  {
   "cell_type": "code",
   "execution_count": 4,
   "metadata": {},
   "outputs": [],
   "source": [
    "class HashRing:\n",
    "    \"\"\"HashRing represents Consistent HashRing. One instance of this\n",
    "    class will be one instance of Consistent HashRing. The class exposes\n",
    "    all the functions required to interact with the ring.\n",
    "    \"\"\"\n",
    "\n",
    "    def __init__(self):\n",
    "        self.keys = []          # indices taken up in the ring\n",
    "        self.nodes = []         # nodes in the ring\n",
    "        self.hash_space = 100   # total slots in the ring\n",
    "\n",
    "    def _generate_key(self, data):\n",
    "        \"\"\"returns hash key modulo hash_space because of which it represents\n",
    "        the location in the flattened hash ring where the data should reside.\n",
    "        \"\"\"\n",
    "        return hash_fn(data) % self.hash_space\n",
    "\n",
    "    def add_node(self, node_id: str) -> int:\n",
    "        \"\"\"add_node function adds a new node to the ring\n",
    "        \"\"\"\n",
    "\n",
    "        # handling error when hash space is full.\n",
    "        if len(self.keys) == self.hash_space:\n",
    "            raise Exception(\"hash space is full\")\n",
    "\n",
    "        key = self._generate_key(node_id)\n",
    "\n",
    "        # find the index where the key should be inserted in the keys store\n",
    "        index = bisect(self.keys, key)\n",
    "\n",
    "        # if we have already seen the key i.e. node already is present\n",
    "        # for the same key, we raise Collision Exception\n",
    "        if index > 0 and self.keys[index - 1] == key:\n",
    "            raise Exception(\"collision occurred\")\n",
    "\n",
    "        # insert the node_id and the key at the same `index` location.\n",
    "        # this insertion will keep nodes and keys sorted w.r.t keys.\n",
    "        self.nodes.insert(index, node_id)\n",
    "        self.keys.insert(index, key)\n",
    "\n",
    "        return key\n",
    "\n",
    "    def remove_node(self, node_id: str) -> None:\n",
    "        \"\"\"remove_node removes the node with id = node_id\n",
    "        \"\"\"\n",
    "\n",
    "        # handling error when space is empty\n",
    "        if len(self.keys) == 0:\n",
    "            raise Exception(\"hash space is empty\")\n",
    "\n",
    "        key = hash_fn(node_id) % self.hash_space\n",
    "\n",
    "        # we find the index where the key would reside in the keys\n",
    "        index = bisect_left(self.keys, key)\n",
    "\n",
    "        # if key does not exist in the array we raise Exception\n",
    "        if index >= len(self.keys) or self.keys[index] != key:\n",
    "            raise Exception(\"node does not exist\")\n",
    "\n",
    "        # now that all sanity checks are done we popping the\n",
    "        # keys and nodes at the index and thus removing presence of the node.\n",
    "        self.keys.pop(index)\n",
    "        self.nodes.pop(index)\n",
    "\n",
    "    def get_node(self, item: str) -> str:\n",
    "        \"\"\"Given an item, the function returns the node to which this\n",
    "        item will lie its allegiance.\n",
    "        \"\"\"\n",
    "        return None\n",
    "\n",
    "    def plot(self, item: str = None) -> None:\n",
    "        plot_hashring(self.hash_space, self.keys, item_key=55, node_key=57)"
   ]
  },
  {
   "cell_type": "code",
   "execution_count": 5,
   "metadata": {},
   "outputs": [
    {
     "name": "stdout",
     "output_type": "stream",
     "text": [
      "15\n",
      "61\n"
     ]
    },
    {
     "data": {
      "image/png": "[encoded data removed]",
      "text/plain": [
       "<Figure size 432x288 with 1 Axes>"
      ]
     },
     "metadata": {
      "needs_background": "light"
     },
     "output_type": "display_data"
    }
   ],
   "source": [
    "hr = HashRing()\n",
    "print(hr.add_node(\"1\"))\n",
    "print(hr.add_node(\"2\"))\n",
    "hr.plot()"
   ]
  }
 ],
 "metadata": {
  "kernelspec": {
   "display_name": "Python 3",
   "language": "python",
   "name": "python3"
  },
  "language_info": {
   "codemirror_mode": {
    "name": "ipython",
    "version": 3
   },
   "file_extension": ".py",
   "mimetype": "text/x-python",
   "name": "python",
   "nbconvert_exporter": "python",
   "pygments_lexer": "ipython3",
   "version": "3.7.6"
  }
 },
 "nbformat": 4,
 "nbformat_minor": 4
}
