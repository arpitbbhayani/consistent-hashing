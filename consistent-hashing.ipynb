{
 "cells": [
  {
   "cell_type": "markdown",
   "metadata": {},
   "source": [
    "# Consistent Hashing with Binary Search"
   ]
  },
  {
   "cell_type": "markdown",
   "metadata": {},
   "source": [
    "## Traditional Hashing"
   ]
  },
  {
   "cell_type": "code",
   "execution_count": 1,
   "metadata": {},
   "outputs": [],
   "source": [
    "import requests\n",
    "\n",
    "class StorageNode:\n",
    "    def __init__(self, name=None, host=None):\n",
    "        self.name = name\n",
    "        self.host = host\n",
    "        \n",
    "    def fetch_file(self, path):\n",
    "        return requests.get(f'https://{self.host}:1231/{path}').text\n",
    "    \n",
    "    def put_file(self, path):\n",
    "        with open(path, 'r') as fp:\n",
    "            content = fp.read()\n",
    "            return requests.post(f'https://{self.host}:1231/{path}', body=content).text"
   ]
  },
  {
   "cell_type": "code",
   "execution_count": 2,
   "metadata": {},
   "outputs": [],
   "source": [
    "# storage_nodes holding instances of actual storage node objects\n",
    "storage_nodes = [\n",
    "    StorageNode(name='A', host='239.67.52.72'),\n",
    "    StorageNode(name='B', host='137.70.131.229'),\n",
    "    StorageNode(name='C', host='98.5.87.182'),\n",
    "    StorageNode(name='D', host='11.225.158.95'),\n",
    "    StorageNode(name='E', host='203.187.116.210'),\n",
    "]\n",
    "\n",
    "\n",
    "def hash_fn(key):\n",
    "    \"\"\"The function sums the bytes present in the `key` and then\n",
    "    take a mod with 5. This hash function thus generates output\n",
    "    in the range [0, 4].\n",
    "    \"\"\"\n",
    "    return sum(bytearray(key.encode('utf-8'))) % 5"
   ]
  },
  {
   "cell_type": "code",
   "execution_count": 3,
   "metadata": {},
   "outputs": [],
   "source": [
    "def upload(path):\n",
    "    # we use the hash function to get the index of the storage node\n",
    "    # that would hold the file\n",
    "    index = hash_fn(path)\n",
    "\n",
    "    # we get the StorageNode instance\n",
    "    node = storage_nodes[index]\n",
    "\n",
    "    # we put the file on the node and return\n",
    "    return node.put_file(path)\n",
    "\n",
    "\n",
    "def fetch(path):\n",
    "    # we use the hash function to get the index of the storage node\n",
    "    # that would hold the file\n",
    "    index = hash_fn(path)\n",
    "\n",
    "    # we get the StorageNode instance\n",
    "    node = storage_nodes[index]\n",
    "\n",
    "    # we fetch the file from the node and return\n",
    "    return node.fetch_file(path)"
   ]
  },
  {
   "cell_type": "code",
   "execution_count": 4,
   "metadata": {},
   "outputs": [
    {
     "name": "stdout",
     "output_type": "stream",
     "text": [
      "file f1.txt resides on node E\n",
      "file f2.txt resides on node A\n",
      "file f3.txt resides on node B\n",
      "file f4.txt resides on node C\n",
      "file f5.txt resides on node D\n"
     ]
    }
   ],
   "source": [
    "# Now we find where the 5 files 'f1.txt', 'f2.txt', 'f3.txt', 'f4.txt', 'f5.txt'\n",
    "# reside on the storage nodes.\n",
    "\n",
    "for file in ['f1.txt', 'f2.txt', 'f3.txt', 'f4.txt', 'f5.txt']:\n",
    "    print(f\"file {file} resides on node {storage_nodes[hash_fn(file)].name}\")"
   ]
  },
  {
   "cell_type": "markdown",
   "metadata": {},
   "source": [
    "### Scaling up the Storage Nodes\n",
    "\n",
    "Now say we scale up and want to add 2 more storage instances i.e. from 5 we will now have 7 storage nodes, so the hash function instead of doing `mod 5` will now perform `mod 7`."
   ]
  },
  {
   "cell_type": "code",
   "execution_count": 5,
   "metadata": {},
   "outputs": [],
   "source": [
    "# storage_nodes holding instances of actual storage node objects\n",
    "storage_nodes = [\n",
    "    StorageNode(name='A', host='239.67.52.72'),\n",
    "    StorageNode(name='B', host='137.70.131.229'),\n",
    "    StorageNode(name='C', host='98.5.87.182'),\n",
    "    StorageNode(name='D', host='11.225.158.95'),\n",
    "    StorageNode(name='E', host='203.187.116.210'),\n",
    "    StorageNode(name='F', host='107.117.238.203'),\n",
    "    StorageNode(name='G', host='27.161.219.131'),\n",
    "]\n",
    "\n",
    "def hash_fn(key):\n",
    "    \"\"\"The function sums the bytes present in the `key` and then\n",
    "    take a mod with 7. This hash function thus generates output\n",
    "    in the range [0, 6].\n",
    "    \"\"\"\n",
    "    return sum(bytearray(key.encode('utf-8'))) % 7"
   ]
  },
  {
   "cell_type": "code",
   "execution_count": 6,
   "metadata": {},
   "outputs": [
    {
     "name": "stdout",
     "output_type": "stream",
     "text": [
      "file f1.txt resides on node D\n",
      "file f2.txt resides on node E\n",
      "file f3.txt resides on node F\n",
      "file f4.txt resides on node G\n",
      "file f5.txt resides on node A\n"
     ]
    }
   ],
   "source": [
    "# Now we find where the 5 files 'f1.txt', 'f2.txt', 'f3.txt', 'f4.txt', 'f5.txt'\n",
    "# reside on the storage nodes.\n",
    "\n",
    "for file in ['f1.txt', 'f2.txt', 'f3.txt', 'f4.txt', 'f5.txt']:\n",
    "    print(f\"file {file} resides on node {storage_nodes[hash_fn(file)].name}\")"
   ]
  },
  {
   "cell_type": "markdown",
   "metadata": {},
   "source": [
    "## Consistent Hashing"
   ]
  },
  {
   "cell_type": "code",
   "execution_count": 7,
   "metadata": {},
   "outputs": [],
   "source": [
    "import hashlib\n",
    "from typing import Union\n",
    "from bisect import bisect, bisect_left, bisect_right\n",
    "\n",
    "from plot import plot_hashring"
   ]
  },
  {
   "cell_type": "code",
   "execution_count": 8,
   "metadata": {},
   "outputs": [],
   "source": [
    "def hash_fn(key: str, total_slots: int) -> int:\n",
    "    \"\"\"hash_fn creates an integer equivalent of a SHA256 hash and\n",
    "    takes a modulo with the total number of slots in hash space.\n",
    "    \"\"\"\n",
    "    hsh = hashlib.sha256()\n",
    "\n",
    "    # converting data into bytes and passing it to hash function\n",
    "    hsh.update(bytes(key.encode('utf-8')))\n",
    "\n",
    "    # converting the HEX digest into equivalent integer value\n",
    "    return int(hsh.hexdigest(), 16) % total_slots"
   ]
  },
  {
   "cell_type": "code",
   "execution_count": 9,
   "metadata": {},
   "outputs": [],
   "source": [
    "class ConsistentHash:\n",
    "    \"\"\"ConsistentHash represents an array based implementation of\n",
    "    consistent hashing algorithm.\n",
    "    \"\"\"\n",
    "\n",
    "    def __init__(self):\n",
    "        self._keys = []           # indices taken up in the ring\n",
    "        self.nodes = []           # nodes present in the ring. nodes[i] is present at index keys[i]\n",
    "        self.total_slots = 50     # total slots in the ring\n",
    "\n",
    "    def add_node(self, node: StorageNode) -> int:\n",
    "        \"\"\"add_node function adds a new node in the system and returns the key\n",
    "        from the hash space where it was placed\n",
    "        \"\"\"\n",
    "\n",
    "        # handling error when hash space is full.\n",
    "        if len(self._keys) == self.total_slots:\n",
    "            raise Exception(\"hash space is full\")\n",
    "\n",
    "        key = hash_fn(node.host, self.total_slots)\n",
    "\n",
    "        # find the index where the key should be inserted in the keys array\n",
    "        # this will be the index where the Storage Node will be added in the\n",
    "        # nodes array.\n",
    "        index = bisect(self._keys, key)\n",
    "\n",
    "        # if we have already seen the key i.e. node already is present\n",
    "        # for the same key, we raise Collision Exception\n",
    "        if index > 0 and self._keys[index - 1] == key:\n",
    "            raise Exception(\"collision occurred\")\n",
    "\n",
    "        # insert the node_id and the key at the same `index` location.\n",
    "        # this insertion will keep nodes and keys sorted w.r.t keys.\n",
    "        self.nodes.insert(index, node)\n",
    "        self._keys.insert(index, key)\n",
    "\n",
    "        return key\n",
    "\n",
    "    def remove_node(self, node: StorageNode) -> int:\n",
    "        \"\"\"remove_node removes the node and returns the key\n",
    "        from the hash space on which the node was placed.\n",
    "        \"\"\"\n",
    "\n",
    "        # handling error when space is empty\n",
    "        if len(self._keys) == 0:\n",
    "            raise Exception(\"hash space is empty\")\n",
    "\n",
    "        key = hash_fn(node.host, self.total_slots)\n",
    "\n",
    "        # we find the index where the key would reside in the keys\n",
    "        index = bisect_left(self._keys, key)\n",
    "\n",
    "        # if key does not exist in the array we raise Exception\n",
    "        if index >= len(self._keys) or self._keys[index] != key:\n",
    "            raise Exception(\"node does not exist\")\n",
    "\n",
    "        # now that all sanity checks are done we popping the\n",
    "        # keys and nodes at the index and thus removing presence of the node.\n",
    "        self._keys.pop(index)\n",
    "        self.nodes.pop(index)\n",
    "\n",
    "        return key\n",
    "\n",
    "    def assign(self, item: str) -> str:\n",
    "        \"\"\"Given an item, the function returns the node it is associated with.\n",
    "        \"\"\"\n",
    "        key = hash_fn(item, self.total_slots)\n",
    "\n",
    "        # we find the first node to the right of this key\n",
    "        # if bisect_right returns index which is out of bounds then\n",
    "        # we circle back to the first in the array in a circular fashion.\n",
    "        index = bisect_right(self._keys, key) % len(self._keys)\n",
    "\n",
    "        # return the node present at the index\n",
    "        return self.nodes[index]\n",
    "\n",
    "    def plot(self, item: str = None, node: StorageNode = None) -> None:\n",
    "        plot_hashring(\n",
    "            self.total_slots,\n",
    "            self._keys,\n",
    "            self.nodes,\n",
    "            item_key=hash_fn(item, self.total_slots) if item else None,\n",
    "            node_key=hash_fn(node.host, self.total_slots) if node else None,\n",
    "        )"
   ]
  },
  {
   "cell_type": "code",
   "execution_count": 10,
   "metadata": {},
   "outputs": [],
   "source": [
    "ch = ConsistentHash()"
   ]
  },
  {
   "cell_type": "code",
   "execution_count": 11,
   "metadata": {},
   "outputs": [
    {
     "data": {
      "image/png": "[encoded data removed]",
      "text/plain": [
       "<Figure size 432x288 with 1 Axes>"
      ]
     },
     "metadata": {
      "needs_background": "light"
     },
     "output_type": "display_data"
    }
   ],
   "source": [
    "for node in storage_nodes:\n",
    "    ch.add_node(node)\n",
    "ch.plot()"
   ]
  },
  {
   "cell_type": "code",
   "execution_count": 12,
   "metadata": {},
   "outputs": [
    {
     "name": "stdout",
     "output_type": "stream",
     "text": [
      "file f1.txt (shown in green) resides on node E (shown in red)\n"
     ]
    },
    {
     "data": {
      "image/png": "[encoded data removed]",
      "text/plain": [
       "<Figure size 432x288 with 1 Axes>"
      ]
     },
     "metadata": {
      "needs_background": "light"
     },
     "output_type": "display_data"
    },
    {
     "name": "stdout",
     "output_type": "stream",
     "text": [
      "file f2.txt (shown in green) resides on node B (shown in red)\n"
     ]
    },
    {
     "data": {
      "image/png": "[encoded data removed]",
      "text/plain": [
       "<Figure size 432x288 with 1 Axes>"
      ]
     },
     "metadata": {
      "needs_background": "light"
     },
     "output_type": "display_data"
    },
    {
     "name": "stdout",
     "output_type": "stream",
     "text": [
      "file f3.txt (shown in green) resides on node B (shown in red)\n"
     ]
    },
    {
     "data": {
      "image/png": "[encoded data removed]",
      "text/plain": [
       "<Figure size 432x288 with 1 Axes>"
      ]
     },
     "metadata": {
      "needs_background": "light"
     },
     "output_type": "display_data"
    },
    {
     "name": "stdout",
     "output_type": "stream",
     "text": [
      "file f4.txt (shown in green) resides on node C (shown in red)\n"
     ]
    },
    {
     "data": {
      "image/png": "[encoded data removed]",
      "text/plain": [
       "<Figure size 432x288 with 1 Axes>"
      ]
     },
     "metadata": {
      "needs_background": "light"
     },
     "output_type": "display_data"
    },
    {
     "name": "stdout",
     "output_type": "stream",
     "text": [
      "file f5.txt (shown in green) resides on node G (shown in red)\n"
     ]
    },
    {
     "data": {
      "image/png": "[encoded data removed]",
      "text/plain": [
       "<Figure size 432x288 with 1 Axes>"
      ]
     },
     "metadata": {
      "needs_background": "light"
     },
     "output_type": "display_data"
    }
   ],
   "source": [
    "for file in ['f1.txt', 'f2.txt', 'f3.txt', 'f4.txt', 'f5.txt']:\n",
    "    print(f\"file {file} (shown in green) resides on node {ch.assign(file).name} (shown in red)\")\n",
    "    ch.plot(file, ch.assign(file))"
   ]
  }
 ],
 "metadata": {
  "kernelspec": {
   "display_name": "Python 3",
   "language": "python",
   "name": "python3"
  },
  "language_info": {
   "codemirror_mode": {
    "name": "ipython",
    "version": 3
   },
   "file_extension": ".py",
   "mimetype": "text/x-python",
   "name": "python",
   "nbconvert_exporter": "python",
   "pygments_lexer": "ipython3",
   "version": "3.7.6"
  }
 },
 "nbformat": 4,
 "nbformat_minor": 4
}
