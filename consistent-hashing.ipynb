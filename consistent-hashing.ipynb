{
 "cells": [
  {
   "cell_type": "markdown",
   "metadata": {},
   "source": [
    "# Consistent Hashing"
   ]
  },
  {
   "cell_type": "code",
   "execution_count": 1,
   "metadata": {},
   "outputs": [],
   "source": [
    "import hashlib\n",
    "from bisect import bisect, bisect_left, bisect_right\n",
    "from typing import Union\n",
    "\n",
    "import matplotlib.pyplot as plt"
   ]
  },
  {
   "cell_type": "code",
   "execution_count": 2,
   "metadata": {},
   "outputs": [],
   "source": [
    "def plot_hashring(hash_space, occupied_keys, nodes, item_key: int = None, node_key: int = None):\n",
    "    figure = plt.figure()\n",
    "    axes_1 = figure.add_axes([0, 0, 3, 1])\n",
    "    axes_1.axes.get_yaxis().set_visible(False)\n",
    "\n",
    "    y_data = [0] * hash_space\n",
    "    for k in occupied_keys:\n",
    "        y_data[k] = 1\n",
    "\n",
    "    if item_key:\n",
    "        y_data[item_key] = 0.75\n",
    "\n",
    "    barlist = axes_1.bar(range(hash_space), y_data, color=\"grey\")\n",
    "\n",
    "    if item_key is not None:\n",
    "        barlist[item_key].set_color('g')\n",
    "\n",
    "    if node_key is not None:\n",
    "        barlist[node_key].set_color('r')\n",
    "\n",
    "    i = 0\n",
    "    for k, rect in enumerate(barlist):\n",
    "        height = rect.get_height()\n",
    "        if i < len(occupied_keys) and occupied_keys[i] == k:\n",
    "            text = nodes[i]\n",
    "            i += 1\n",
    "        else:\n",
    "            text = \"\"\n",
    "        axes_1.annotate(text,\n",
    "                        xy=(rect.get_x() + rect.get_width() / 2, height),\n",
    "                        xytext=(0, 3),\n",
    "                        textcoords=\"offset points\",\n",
    "                        ha='center', va='bottom')\n",
    "\n",
    "    plt.show()"
   ]
  },
  {
   "cell_type": "code",
   "execution_count": 3,
   "metadata": {},
   "outputs": [],
   "source": [
    "def hash_fn(data: str) -> int:\n",
    "    \"\"\"hash_fn creates an integer equivalent of a SHA256 hash\n",
    "\n",
    "    data could be a string or an integer\n",
    "    \"\"\"\n",
    "    hsh = hashlib.sha256()\n",
    "\n",
    "    # converting data into bytes and passing it to hash function\n",
    "    hsh.update(bytes(data.encode('utf-8')))\n",
    "\n",
    "    # converting the HEX digest into equivalent integer value\n",
    "    return int(hsh.hexdigest(), 16)"
   ]
  },
  {
   "cell_type": "code",
   "execution_count": 4,
   "metadata": {},
   "outputs": [],
   "source": [
    "class HashRing:\n",
    "    \"\"\"HashRing represents Consistent HashRing. One instance of this\n",
    "    class will be one instance of Consistent HashRing. The class exposes\n",
    "    all the functions required to interact with the ring.\n",
    "    \"\"\"\n",
    "\n",
    "    def __init__(self):\n",
    "        self._keys = []          # indices taken up in the ring\n",
    "        self.nodes = []          # nodes present in the ring. nodes[i] is present at index keys[i]\n",
    "        self.hash_space = 50     # total slots in the ring\n",
    "\n",
    "    def _generate_key(self, data):\n",
    "        \"\"\"returns hash key modulo hash_space because of which it represents\n",
    "        the location in the flattened hash ring where the data should reside.\n",
    "        \"\"\"\n",
    "        if not data:\n",
    "            return None\n",
    "        return hash_fn(data) % self.hash_space\n",
    "\n",
    "    def add_node(self, node_id: str) -> int:\n",
    "        \"\"\"add_node function adds a new node to the ring and returns the key\n",
    "        from the hash space where it was placed\n",
    "        \"\"\"\n",
    "\n",
    "        # handling error when hash space is full.\n",
    "        if len(self._keys) == self.hash_space:\n",
    "            raise Exception(\"hash space is full\")\n",
    "\n",
    "        key = self._generate_key(node_id)\n",
    "\n",
    "        # find the index where the key should be inserted in the keys store\n",
    "        index = bisect(self._keys, key)\n",
    "\n",
    "        # if we have already seen the key i.e. node already is present\n",
    "        # for the same key, we raise Collision Exception\n",
    "        if index > 0 and self._keys[index - 1] == key:\n",
    "            raise Exception(\"collision occurred\")\n",
    "\n",
    "        # insert the node_id and the key at the same `index` location.\n",
    "        # this insertion will keep nodes and keys sorted w.r.t keys.\n",
    "        self.nodes.insert(index, node_id)\n",
    "        self._keys.insert(index, key)\n",
    "\n",
    "        return key\n",
    "\n",
    "    def remove_node(self, node_id: str) -> int:\n",
    "        \"\"\"remove_node removes the node with id = node_id and returns the key\n",
    "        from the hash space on which the node was placed.\n",
    "        \"\"\"\n",
    "\n",
    "        # handling error when space is empty\n",
    "        if len(self._keys) == 0:\n",
    "            raise Exception(\"hash space is empty\")\n",
    "\n",
    "        key = hash_fn(node_id) % self.hash_space\n",
    "\n",
    "        # we find the index where the key would reside in the keys\n",
    "        index = bisect_left(self._keys, key)\n",
    "\n",
    "        # if key does not exist in the array we raise Exception\n",
    "        if index >= len(self._keys) or self._keys[index] != key:\n",
    "            raise Exception(\"node does not exist\")\n",
    "\n",
    "        # now that all sanity checks are done we popping the\n",
    "        # keys and nodes at the index and thus removing presence of the node.\n",
    "        self._keys.pop(index)\n",
    "        self.nodes.pop(index)\n",
    "\n",
    "        return key\n",
    "\n",
    "    def assign(self, item_id: str) -> str:\n",
    "        \"\"\"Given an item, the function returns the node_id through which this\n",
    "        item will be served.\n",
    "        \"\"\"\n",
    "        key = self._generate_key(item_id)\n",
    "\n",
    "        # we find the first right node to this key\n",
    "        # if bisect_right returns index which is out of bounds then\n",
    "        # we circle back to the first in the array - making it a ring\n",
    "        index = bisect_right(self._keys, key) % len(self._keys)\n",
    "\n",
    "        # return the node present at the index\n",
    "        return self.nodes[index]\n",
    "\n",
    "    def plot(self, item_id: str = None, node_id: str = None) -> None:\n",
    "        plot_hashring(\n",
    "            self.hash_space,\n",
    "            self._keys,\n",
    "            self.nodes,\n",
    "            item_key=self._generate_key(item_id),\n",
    "            node_key=self._generate_key(node_id),\n",
    "        )"
   ]
  },
  {
   "cell_type": "code",
   "execution_count": 5,
   "metadata": {},
   "outputs": [
    {
     "data": {
      "image/png": "[encoded data removed]",
      "text/plain": [
       "<Figure size 432x288 with 1 Axes>"
      ]
     },
     "metadata": {
      "needs_background": "light"
     },
     "output_type": "display_data"
    }
   ],
   "source": [
    "hr = HashRing()\n",
    "key_server1 = hr.add_node(\"server 1\")\n",
    "key_server2 = hr.add_node(\"server 2\")\n",
    "hr.plot()"
   ]
  },
  {
   "cell_type": "code",
   "execution_count": 6,
   "metadata": {},
   "outputs": [
    {
     "data": {
      "image/png": "[encoded data removed]",
      "text/plain": [
       "<Figure size 432x288 with 1 Axes>"
      ]
     },
     "metadata": {
      "needs_background": "light"
     },
     "output_type": "display_data"
    }
   ],
   "source": [
    "hr.plot(\"1\", hr.assign(\"1\"))"
   ]
  },
  {
   "cell_type": "code",
   "execution_count": 7,
   "metadata": {},
   "outputs": [
    {
     "data": {
      "image/png": "[encoded data removed]",
      "text/plain": [
       "<Figure size 432x288 with 1 Axes>"
      ]
     },
     "metadata": {
      "needs_background": "light"
     },
     "output_type": "display_data"
    }
   ],
   "source": [
    "hr.plot(\"2\", hr.assign(\"2\"))"
   ]
  }
 ],
 "metadata": {
  "kernelspec": {
   "display_name": "Python 3",
   "language": "python",
   "name": "python3"
  },
  "language_info": {
   "codemirror_mode": {
    "name": "ipython",
    "version": 3
   },
   "file_extension": ".py",
   "mimetype": "text/x-python",
   "name": "python",
   "nbconvert_exporter": "python",
   "pygments_lexer": "ipython3",
   "version": "3.7.6"
  }
 },
 "nbformat": 4,
 "nbformat_minor": 4
}
