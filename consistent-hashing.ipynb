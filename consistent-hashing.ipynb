{
 "cells": [
  {
   "cell_type": "markdown",
   "metadata": {},
   "source": [
    "# Consistent Hashing"
   ]
  },
  {
   "cell_type": "code",
   "execution_count": 1,
   "metadata": {},
   "outputs": [],
   "source": [
    "import hashlib\n",
    "import matplotlib.pyplot as plt\n",
    "from bisect import bisect, bisect_left"
   ]
  },
  {
   "cell_type": "code",
   "execution_count": 2,
   "metadata": {},
   "outputs": [],
   "source": [
    "def hash_fn(k):\n",
    "    h = hashlib.sha256()\n",
    "    if type(k) in [str]:\n",
    "        k = k.encode('utf-8')\n",
    "    h.update(bytes(k))\n",
    "    return int(h.hexdigest(), 16)"
   ]
  },
  {
   "cell_type": "code",
   "execution_count": 3,
   "metadata": {},
   "outputs": [],
   "source": [
    "class HashRing:\n",
    "    def __init__(self):\n",
    "        self.count = 0\n",
    "        self.keys = []\n",
    "        self.nodes = []\n",
    "        self.hash_space = 100\n",
    "        \n",
    "    def add_node(self, node_id):\n",
    "        if self.count == self.hash_space:\n",
    "            raise Exception(\"hash space is full\")\n",
    "\n",
    "        self.count += 1\n",
    "        key = hash_fn(node_id) % self.hash_space\n",
    "        index = bisect(self.keys, key)\n",
    "        self.nodes.insert(index, node_id)\n",
    "        self.keys.insert(index, key)\n",
    "        \n",
    "    def remove_node(self, node_id):\n",
    "        if self.count == 0:\n",
    "            raise Exception(\"hash space is empty\")\n",
    "\n",
    "        key = hash_fn(node_id) % self.hash_space\n",
    "        \n",
    "        index = bisect_left(self.keys, key)\n",
    "        try:\n",
    "            self.keys.remove(key)\n",
    "            self.nodes.pop(index)\n",
    "            self.count -= 1\n",
    "        except ValueError:\n",
    "            pass\n",
    "\n",
    "    def plot(self):\n",
    "        fig = plt.figure()\n",
    "        ax = fig.add_axes([0,0,3,1])\n",
    "        ax.axes.get_yaxis().set_visible(False)\n",
    "        plt.ylim(top=2)\n",
    "        data = [0] * self.hash_space\n",
    "        for k in self.keys:\n",
    "            data[k] = 1\n",
    "        barlist = ax.bar(range(self.hash_space), data)\n",
    "\n",
    "        # barlist[self.keys[0]].set_color('r')\n",
    "        plt.show()"
   ]
  },
  {
   "cell_type": "code",
   "execution_count": 4,
   "metadata": {},
   "outputs": [],
   "source": [
    "hr = HashRing()"
   ]
  }
 ],
 "metadata": {
  "kernelspec": {
   "display_name": "Python 3",
   "language": "python",
   "name": "python3"
  },
  "language_info": {
   "codemirror_mode": {
    "name": "ipython",
    "version": 3
   },
   "file_extension": ".py",
   "mimetype": "text/x-python",
   "name": "python",
   "nbconvert_exporter": "python",
   "pygments_lexer": "ipython3",
   "version": "3.7.6"
  }
 },
 "nbformat": 4,
 "nbformat_minor": 4
}
